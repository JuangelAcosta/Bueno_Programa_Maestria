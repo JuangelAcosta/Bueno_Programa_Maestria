{
 "cells": [
  {
   "cell_type": "code",
   "execution_count": 2,
   "id": "711fbcc3",
   "metadata": {},
   "outputs": [
    {
     "name": "stdout",
     "output_type": "stream",
     "text": [
      "Requirement already satisfied: pip in c:\\users\\juan\\anaconda3\\lib\\site-packages (24.0)\n",
      "Note: you may need to restart the kernel to use updated packages.\n"
     ]
    }
   ],
   "source": [
    "pip install --upgrade pip"
   ]
  },
  {
   "cell_type": "code",
   "execution_count": 1,
   "id": "718033c1",
   "metadata": {},
   "outputs": [
    {
     "name": "stdout",
     "output_type": "stream",
     "text": [
      "Requirement already satisfied: tensorflow in c:\\users\\juan\\anaconda3\\lib\\site-packages (2.13.0)\n",
      "Requirement already satisfied: tensorflow-intel==2.13.0 in c:\\users\\juan\\anaconda3\\lib\\site-packages (from tensorflow) (2.13.0)\n",
      "Requirement already satisfied: absl-py>=1.0.0 in c:\\users\\juan\\anaconda3\\lib\\site-packages (from tensorflow-intel==2.13.0->tensorflow) (2.1.0)\n",
      "Requirement already satisfied: astunparse>=1.6.0 in c:\\users\\juan\\anaconda3\\lib\\site-packages (from tensorflow-intel==2.13.0->tensorflow) (1.6.3)\n",
      "Requirement already satisfied: flatbuffers>=23.1.21 in c:\\users\\juan\\anaconda3\\lib\\site-packages (from tensorflow-intel==2.13.0->tensorflow) (24.3.25)\n",
      "Requirement already satisfied: gast<=0.4.0,>=0.2.1 in c:\\users\\juan\\anaconda3\\lib\\site-packages (from tensorflow-intel==2.13.0->tensorflow) (0.4.0)\n",
      "Requirement already satisfied: google-pasta>=0.1.1 in c:\\users\\juan\\anaconda3\\lib\\site-packages (from tensorflow-intel==2.13.0->tensorflow) (0.2.0)\n",
      "Requirement already satisfied: h5py>=2.9.0 in c:\\users\\juan\\anaconda3\\lib\\site-packages (from tensorflow-intel==2.13.0->tensorflow) (3.11.0)\n",
      "Requirement already satisfied: libclang>=13.0.0 in c:\\users\\juan\\anaconda3\\lib\\site-packages (from tensorflow-intel==2.13.0->tensorflow) (18.1.1)\n",
      "Collecting numpy<=1.24.3,>=1.22 (from tensorflow-intel==2.13.0->tensorflow)\n",
      "  Using cached numpy-1.24.3-cp38-cp38-win_amd64.whl.metadata (5.6 kB)\n",
      "Requirement already satisfied: opt-einsum>=2.3.2 in c:\\users\\juan\\anaconda3\\lib\\site-packages (from tensorflow-intel==2.13.0->tensorflow) (3.3.0)\n",
      "Requirement already satisfied: packaging in c:\\users\\juan\\anaconda3\\lib\\site-packages (from tensorflow-intel==2.13.0->tensorflow) (20.9)\n",
      "Requirement already satisfied: protobuf!=4.21.0,!=4.21.1,!=4.21.2,!=4.21.3,!=4.21.4,!=4.21.5,<5.0.0dev,>=3.20.3 in c:\\users\\juan\\anaconda3\\lib\\site-packages (from tensorflow-intel==2.13.0->tensorflow) (4.25.3)\n",
      "Requirement already satisfied: setuptools in c:\\users\\juan\\anaconda3\\lib\\site-packages (from tensorflow-intel==2.13.0->tensorflow) (52.0.0.post20210125)\n",
      "Requirement already satisfied: six>=1.12.0 in c:\\users\\juan\\anaconda3\\lib\\site-packages (from tensorflow-intel==2.13.0->tensorflow) (1.15.0)\n",
      "Requirement already satisfied: termcolor>=1.1.0 in c:\\users\\juan\\anaconda3\\lib\\site-packages (from tensorflow-intel==2.13.0->tensorflow) (2.4.0)\n",
      "Requirement already satisfied: typing-extensions<4.6.0,>=3.6.6 in c:\\users\\juan\\anaconda3\\lib\\site-packages (from tensorflow-intel==2.13.0->tensorflow) (3.7.4.3)\n",
      "Requirement already satisfied: wrapt>=1.11.0 in c:\\users\\juan\\anaconda3\\lib\\site-packages (from tensorflow-intel==2.13.0->tensorflow) (1.12.1)\n",
      "Requirement already satisfied: grpcio<2.0,>=1.24.3 in c:\\users\\juan\\anaconda3\\lib\\site-packages (from tensorflow-intel==2.13.0->tensorflow) (1.63.0)\n",
      "Requirement already satisfied: tensorboard<2.14,>=2.13 in c:\\users\\juan\\anaconda3\\lib\\site-packages (from tensorflow-intel==2.13.0->tensorflow) (2.13.0)\n",
      "Requirement already satisfied: tensorflow-estimator<2.14,>=2.13.0 in c:\\users\\juan\\anaconda3\\lib\\site-packages (from tensorflow-intel==2.13.0->tensorflow) (2.13.0)\n",
      "Requirement already satisfied: keras<2.14,>=2.13.1 in c:\\users\\juan\\anaconda3\\lib\\site-packages (from tensorflow-intel==2.13.0->tensorflow) (2.13.1)\n",
      "Requirement already satisfied: tensorflow-io-gcs-filesystem>=0.23.1 in c:\\users\\juan\\anaconda3\\lib\\site-packages (from tensorflow-intel==2.13.0->tensorflow) (0.31.0)\n",
      "Requirement already satisfied: wheel<1.0,>=0.23.0 in c:\\users\\juan\\anaconda3\\lib\\site-packages (from astunparse>=1.6.0->tensorflow-intel==2.13.0->tensorflow) (0.36.2)\n",
      "Requirement already satisfied: google-auth<3,>=1.6.3 in c:\\users\\juan\\anaconda3\\lib\\site-packages (from tensorboard<2.14,>=2.13->tensorflow-intel==2.13.0->tensorflow) (2.29.0)\n",
      "Requirement already satisfied: google-auth-oauthlib<1.1,>=0.5 in c:\\users\\juan\\anaconda3\\lib\\site-packages (from tensorboard<2.14,>=2.13->tensorflow-intel==2.13.0->tensorflow) (1.0.0)\n",
      "Requirement already satisfied: markdown>=2.6.8 in c:\\users\\juan\\anaconda3\\lib\\site-packages (from tensorboard<2.14,>=2.13->tensorflow-intel==2.13.0->tensorflow) (3.6)\n",
      "Requirement already satisfied: requests<3,>=2.21.0 in c:\\users\\juan\\anaconda3\\lib\\site-packages (from tensorboard<2.14,>=2.13->tensorflow-intel==2.13.0->tensorflow) (2.31.0)\n",
      "Requirement already satisfied: tensorboard-data-server<0.8.0,>=0.7.0 in c:\\users\\juan\\anaconda3\\lib\\site-packages (from tensorboard<2.14,>=2.13->tensorflow-intel==2.13.0->tensorflow) (0.7.2)\n",
      "Requirement already satisfied: werkzeug>=1.0.1 in c:\\users\\juan\\anaconda3\\lib\\site-packages (from tensorboard<2.14,>=2.13->tensorflow-intel==2.13.0->tensorflow) (1.0.1)\n",
      "Requirement already satisfied: pyparsing>=2.0.2 in c:\\users\\juan\\anaconda3\\lib\\site-packages (from packaging->tensorflow-intel==2.13.0->tensorflow) (2.4.7)\n",
      "Requirement already satisfied: cachetools<6.0,>=2.0.0 in c:\\users\\juan\\anaconda3\\lib\\site-packages (from google-auth<3,>=1.6.3->tensorboard<2.14,>=2.13->tensorflow-intel==2.13.0->tensorflow) (5.3.3)\n",
      "Requirement already satisfied: pyasn1-modules>=0.2.1 in c:\\users\\juan\\anaconda3\\lib\\site-packages (from google-auth<3,>=1.6.3->tensorboard<2.14,>=2.13->tensorflow-intel==2.13.0->tensorflow) (0.4.0)\n",
      "Requirement already satisfied: rsa<5,>=3.1.4 in c:\\users\\juan\\anaconda3\\lib\\site-packages (from google-auth<3,>=1.6.3->tensorboard<2.14,>=2.13->tensorflow-intel==2.13.0->tensorflow) (4.9)\n",
      "Requirement already satisfied: requests-oauthlib>=0.7.0 in c:\\users\\juan\\anaconda3\\lib\\site-packages (from google-auth-oauthlib<1.1,>=0.5->tensorboard<2.14,>=2.13->tensorflow-intel==2.13.0->tensorflow) (2.0.0)\n",
      "Requirement already satisfied: importlib-metadata>=4.4 in c:\\users\\juan\\anaconda3\\lib\\site-packages (from markdown>=2.6.8->tensorboard<2.14,>=2.13->tensorflow-intel==2.13.0->tensorflow) (7.1.0)\n",
      "Requirement already satisfied: charset-normalizer<4,>=2 in c:\\users\\juan\\anaconda3\\lib\\site-packages (from requests<3,>=2.21.0->tensorboard<2.14,>=2.13->tensorflow-intel==2.13.0->tensorflow) (3.2.0)\n",
      "Requirement already satisfied: idna<4,>=2.5 in c:\\users\\juan\\anaconda3\\lib\\site-packages (from requests<3,>=2.21.0->tensorboard<2.14,>=2.13->tensorflow-intel==2.13.0->tensorflow) (2.10)\n",
      "Requirement already satisfied: urllib3<3,>=1.21.1 in c:\\users\\juan\\anaconda3\\lib\\site-packages (from requests<3,>=2.21.0->tensorboard<2.14,>=2.13->tensorflow-intel==2.13.0->tensorflow) (1.26.4)\n",
      "Requirement already satisfied: certifi>=2017.4.17 in c:\\users\\juan\\anaconda3\\lib\\site-packages (from requests<3,>=2.21.0->tensorboard<2.14,>=2.13->tensorflow-intel==2.13.0->tensorflow) (2020.12.5)\n",
      "Requirement already satisfied: zipp>=0.5 in c:\\users\\juan\\anaconda3\\lib\\site-packages (from importlib-metadata>=4.4->markdown>=2.6.8->tensorboard<2.14,>=2.13->tensorflow-intel==2.13.0->tensorflow) (3.4.1)\n",
      "Requirement already satisfied: pyasn1<0.7.0,>=0.4.6 in c:\\users\\juan\\anaconda3\\lib\\site-packages (from pyasn1-modules>=0.2.1->google-auth<3,>=1.6.3->tensorboard<2.14,>=2.13->tensorflow-intel==2.13.0->tensorflow) (0.6.0)\n",
      "Requirement already satisfied: oauthlib>=3.0.0 in c:\\users\\juan\\anaconda3\\lib\\site-packages (from requests-oauthlib>=0.7.0->google-auth-oauthlib<1.1,>=0.5->tensorboard<2.14,>=2.13->tensorflow-intel==2.13.0->tensorflow) (3.2.2)\n",
      "Using cached numpy-1.24.3-cp38-cp38-win_amd64.whl (14.9 MB)\n",
      "Installing collected packages: numpy\n",
      "  Attempting uninstall: numpy\n",
      "    Found existing installation: numpy 1.24.4\n",
      "    Uninstalling numpy-1.24.4:\n",
      "      Successfully uninstalled numpy-1.24.4\n",
      "Successfully installed numpy-1.24.3\n",
      "Note: you may need to restart the kernel to use updated packages.\n"
     ]
    },
    {
     "name": "stderr",
     "output_type": "stream",
     "text": [
      "  WARNING: Failed to remove contents in a temporary directory 'C:\\Users\\Juan\\anaconda3\\Lib\\site-packages\\~1mpy'.\n",
      "  You can safely remove it manually.\n",
      "ERROR: pip's dependency resolver does not currently take into account all the packages that are installed. This behaviour is the source of the following dependency conflicts.\n",
      "libfmp 1.2.2 requires pandas<2.0.0,>=1.0.0, but you have pandas 2.0.3 which is incompatible.\n",
      "scipy 1.6.2 requires numpy<1.23.0,>=1.16.5, but you have numpy 1.24.3 which is incompatible.\n"
     ]
    }
   ],
   "source": [
    "pip install tensorflow"
   ]
  },
  {
   "cell_type": "code",
   "execution_count": 1,
   "id": "4177b261",
   "metadata": {},
   "outputs": [
    {
     "name": "stdout",
     "output_type": "stream",
     "text": [
      "Requirement already satisfied: numpy in c:\\users\\juan\\anaconda3\\lib\\site-packages (1.24.3)\n",
      "Collecting numpy\n",
      "  Using cached numpy-1.24.4-cp38-cp38-win_amd64.whl.metadata (5.6 kB)\n",
      "Using cached numpy-1.24.4-cp38-cp38-win_amd64.whl (14.9 MB)\n",
      "Installing collected packages: numpy\n",
      "  Attempting uninstall: numpy\n",
      "    Found existing installation: numpy 1.24.3\n",
      "    Uninstalling numpy-1.24.3:\n",
      "      Successfully uninstalled numpy-1.24.3\n",
      "Successfully installed numpy-1.24.4\n",
      "Note: you may need to restart the kernel to use updated packages.\n"
     ]
    },
    {
     "name": "stderr",
     "output_type": "stream",
     "text": [
      "ERROR: pip's dependency resolver does not currently take into account all the packages that are installed. This behaviour is the source of the following dependency conflicts.\n",
      "libfmp 1.2.2 requires pandas<2.0.0,>=1.0.0, but you have pandas 2.0.3 which is incompatible.\n",
      "scipy 1.6.2 requires numpy<1.23.0,>=1.16.5, but you have numpy 1.24.4 which is incompatible.\n",
      "tensorflow-intel 2.13.0 requires numpy<=1.24.3,>=1.22, but you have numpy 1.24.4 which is incompatible.\n"
     ]
    }
   ],
   "source": [
    "pip install --upgrade numpy"
   ]
  },
  {
   "cell_type": "code",
   "execution_count": 1,
   "id": "e8245737",
   "metadata": {},
   "outputs": [
    {
     "name": "stderr",
     "output_type": "stream",
     "text": [
      "C:\\Users\\Juan\\anaconda3\\lib\\site-packages\\scipy\\__init__.py:138: UserWarning: A NumPy version >=1.16.5 and <1.23.0 is required for this version of SciPy (detected version 1.24.4)\n",
      "  warnings.warn(f\"A NumPy version >={np_minversion} and <{np_maxversion} is required for this version of \"\n"
     ]
    },
    {
     "name": "stdout",
     "output_type": "stream",
     "text": [
      "tf.Tensor(1621.6578, shape=(), dtype=float32)\n"
     ]
    }
   ],
   "source": [
    "import tensorflow as tf; print(tf.reduce_sum(tf.random.normal([1000, 1000])))"
   ]
  },
  {
   "cell_type": "code",
   "execution_count": 2,
   "id": "d68c901e",
   "metadata": {},
   "outputs": [],
   "source": [
    "# Librerías necesarias\n",
    "from random import seed  # Para inicializar el generador de números aleatorios\n",
    "from random import randrange  # Para generar números aleatorios dentro de un rango\n",
    "from csv import reader  # Para leer y analizar archivos CSV\n",
    "\n",
    "\n",
    "#from google.colab import drive\n",
    "import pandas as pd\n",
    "import csv\n",
    "import numpy as np\n",
    "from sklearn.model_selection import train_test_split\n",
    "from sklearn.preprocessing import MinMaxScaler\n",
    "from sklearn.preprocessing import StandardScaler\n",
    "from tensorflow.keras.layers import Activation\n",
    "\n",
    "\n",
    "import matplotlib.pyplot as plt\n",
    "import random\n",
    "from sklearn import preprocessing\n",
    "from sklearn.feature_selection import chi2\n",
    "from sklearn.preprocessing import KBinsDiscretizer\n",
    "from sklearn.feature_selection import VarianceThreshold\n",
    "import os\n",
    "from sklearn.linear_model import LassoCV\n",
    "from sklearn.tree import DecisionTreeClassifier, export_text, plot_tree, export_graphviz\n",
    "import seaborn as sns\n",
    "from sklearn.preprocessing import LabelEncoder\n",
    "from sklearn.decomposition import PCA\n",
    "from scipy.spatial import distance\n",
    "from sklearn.cluster import KMeans\n",
    "from sklearn.impute import KNNImputer\n",
    "import ipywidgets as widgets\n",
    "from IPython.display import display\n",
    "from datetime import timedelta\n",
    "from scipy.spatial.distance import euclidean\n",
    "import sys\n",
    "from matplotlib.lines import Line2D\n",
    "import pickle\n",
    "from scipy.spatial.distance import cdist\n",
    "\n",
    "\n",
    "from keras.utils import to_categorical\n",
    "from keras.models import Sequential\n",
    "from keras.layers import Dense\n",
    "import math\n",
    "#from ctgan import CTGAN\n",
    "\n",
    "from sklearn.model_selection import train_test_split\n",
    "from sklearn.preprocessing import LabelEncoder\n",
    "from keras.models import Sequential\n",
    "from keras.layers import Dense\n",
    "import joblib\n",
    "\n",
    "\n",
    "from sklearn.model_selection import StratifiedKFold\n",
    "\n",
    "from keras.optimizers import Adam\n",
    "from keras.losses import categorical_crossentropy\n",
    "from keras.metrics import categorical_accuracy\n",
    "from keras.callbacks import EarlyStopping\n",
    "\n",
    "\n",
    "import matplotlib.pyplot as plt\n",
    "import time\n",
    "import gc\n",
    "\n",
    "from sklearn.metrics import confusion_matrix\n",
    "\n",
    "import pickle\n",
    "\n",
    "from sklearn.metrics import accuracy_score"
   ]
  },
  {
   "cell_type": "code",
   "execution_count": 3,
   "id": "c0067738",
   "metadata": {},
   "outputs": [
    {
     "name": "stdout",
     "output_type": "stream",
     "text": [
      "Número de núcleos de CPU disponibles: 16\n"
     ]
    }
   ],
   "source": [
    "import os\n",
    "print(\"Número de núcleos de CPU disponibles:\", os.cpu_count())"
   ]
  },
  {
   "cell_type": "code",
   "execution_count": 4,
   "id": "6ff7517a",
   "metadata": {},
   "outputs": [],
   "source": [
    "def reproducibilidad():\n",
    "    # Numpy\n",
    "    np.random.seed(3)\n",
    "\n",
    "    # Python Random\n",
    "    random.seed(3)\n",
    "\n",
    "    # Tensorflow\n",
    "    tf.random.set_seed(3)\n",
    "\n",
    "\n",
    "def experimentosMLP(df_red_neuronal, nombre_archivo):\n",
    "    reproducibilidad()\n",
    "\n",
    "    modelos = {}\n",
    "\n",
    "    skf = StratifiedKFold(n_splits=10, shuffle=True)\n",
    "\n",
    "    X = df_red_neuronal.drop(labels='IMECA_Total', axis=1).values\n",
    "    Y = df_red_neuronal['IMECA_Total'].values\n",
    "\n",
    "    tiempo_inicio = time.time()  # Tiempo de inicio\n",
    "\n",
    "    acc_promedio = 0.0  # Variable para acumular la precisión de cada modelo\n",
    "    i=1\n",
    "    for train_index, test_index in skf.split(X, Y):\n",
    "        dim_entrada = X.shape[1]\n",
    "        dim_salida = 4  # Número de clases\n",
    "        na = ((2/3) * dim_entrada) + (dim_salida)\n",
    "        na = math.trunc(na)\n",
    "\n",
    "        X_train, X_test = X[train_index], X[test_index]\n",
    "        Y_train, Y_test = Y[train_index], Y[test_index]\n",
    "\n",
    "        modelo = Sequential()\n",
    "        modelo.add(Dense(na, input_dim=dim_entrada, activation='tanh'))\n",
    "        modelo.add(Dense(na/2, activation='tanh'))\n",
    "        modelo.add(Dense(dim_salida, activation='softmax'))\n",
    "\n",
    "        modelo.compile(optimizer=Adam(), loss=categorical_crossentropy, metrics=[categorical_accuracy])\n",
    "\n",
    "        # Ajustar los índices de las clases para estar en el rango de 0 a 3\n",
    "        Y_train_onehot = to_categorical(Y_train - 1, num_classes=dim_salida)\n",
    "        Y_test_onehot = to_categorical(Y_test - 1, num_classes=dim_salida)\n",
    "\n",
    "        history = modelo.fit(X_train, Y_train_onehot, validation_data=(X_test, Y_test_onehot), batch_size=50, epochs=15, \n",
    "                             shuffle=True, verbose=1, workers=8, callbacks=[EarlyStopping(monitor='categorical_accuracy', patience=3)])\n",
    "                                #Originalmente shuffle es False\n",
    "        modelos['modelo_prueba_kfold_' + str(len(modelos) + 1)] = modelo\n",
    "\n",
    "        _, acc = modelo.evaluate(X_test, Y_test_onehot)  # Obtenemos la precisión del modelo\n",
    "        acc_promedio += acc  # Acumulamos la precisión\n",
    "\n",
    "\n",
    "        print('####\\tResultado del Modelo K-Fold\\t####', i)\n",
    "\n",
    "        print(modelo.evaluate(X_test, Y_test_onehot))\n",
    "        i=i+1\n",
    "    tiempo_fin = time.time()  # Tiempo de finalización\n",
    "    tiempo_total = tiempo_fin - tiempo_inicio  # Tiempo total\n",
    "\n",
    "    acc_promedio /= 10  # Calculamos el promedio de la precisión\n",
    "\n",
    "    print(\"Tiempo total:\", tiempo_total)\n",
    "    print(\"Promedio de categorical_accuracy:\", acc_promedio)\n",
    "\n",
    "    ruta_modelos ='Modelo_neuronal_'+ nombre_archivo + '.pkl'\n",
    "    with open(ruta_modelos, 'wb') as archivo:\n",
    "        pickle.dump(modelos, archivo)\n",
    "\n",
    "\n",
    "    # Liberar la memoria de los objetos que ya no se necesitan\n",
    "    del modelos\n",
    "    del skf\n",
    "    del X\n",
    "    del Y\n",
    "\n",
    "    gc.collect()\n",
    "\n",
    "    return tiempo_total, acc_promedio\n",
    "\n",
    "\n",
    "\n",
    "import pickle\n",
    "\n",
    "def cargar_modelos(ruta_modelos):\n",
    "    with open(ruta_modelos, 'rb') as archivo:\n",
    "        modelos = pickle.load(archivo)\n",
    "    return modelos\n",
    "\n",
    "\n",
    "\n",
    "\n",
    "\n",
    "\n",
    "def evaluar_modelo(modelo, X_test, y_test):\n",
    "    # Evaluar el modelo en los datos de prueba\n",
    "    y_pred = modelo.predict(X_test)\n",
    "    \n",
    "    # Convertir las predicciones a etiquetas\n",
    "    y_pred_labels = np.argmax(y_pred, axis=1)\n",
    "    y_pred_labels = [x + 1 for x in y_pred_labels]\n",
    "    \n",
    "    # Calcular la métrica de evaluación (por ejemplo, precisión)\n",
    "    precision = accuracy_score(y_test, y_pred_labels)\n",
    "    return precision\n",
    "\n",
    "\n",
    "#modificar la ruta para guardar los modelos de las redes neuronales"
   ]
  },
  {
   "cell_type": "markdown",
   "id": "2dd3561a",
   "metadata": {},
   "source": [
    "# DataFrame Normal"
   ]
  },
  {
   "cell_type": "code",
   "execution_count": 5,
   "id": "1e24f5d5",
   "metadata": {},
   "outputs": [
    {
     "name": "stdout",
     "output_type": "stream",
     "text": [
      "Número de columnas: 24\n"
     ]
    }
   ],
   "source": [
    "TIMES1 = 'Data_Original.csv'\n",
    "df_normalizado1 = pd.read_csv(TIMES1)\n",
    "\n",
    "# Convierte la columna de fecha en formato datetime, si no lo está ya\n",
    "df_normalizado1['TIMESTAMP'] = pd.to_datetime(df_normalizado1['TIMESTAMP'])\n",
    "\n",
    "df_red_neuronal1 = df_normalizado1.drop(['TIMESTAMP', 'O3','PM10', 'SO2','PM25','NO2','CO','Clase_O3', 'Clase_NO2', 'Clase_SO2', 'Clase_CO', 'Clase_PM10', 'Clase_PM25'], axis=1)\n",
    "\n",
    "# Cambia los valores de 'IMECA_Total' de 5 a 4\n",
    "df_red_neuronal1['IMECA_Total'] = df_red_neuronal1['IMECA_Total'].replace(5, 4)\n",
    "\n",
    "# Obtén el número de columnas del DataFrame\n",
    "num_columnas1 = df_red_neuronal1.shape[1]\n",
    "\n",
    "# Imprime el número de columnas\n",
    "print(\"Número de columnas:\", num_columnas1)"
   ]
  },
  {
   "cell_type": "code",
   "execution_count": null,
   "id": "31f6be68",
   "metadata": {},
   "outputs": [],
   "source": [
    "Tiempo, accuracy= experimentosMLP(df_red_neuronal1, nombre_archivo='Normal_Completo')\n",
    "print(Tiempo, accuracy)"
   ]
  },
  {
   "cell_type": "code",
   "execution_count": null,
   "id": "e9ca6b4a",
   "metadata": {},
   "outputs": [],
   "source": [
    "# Crear un DataFrame con los valores de tiempo_total y acc_promedio\n",
    "df_rendimiento_Smote = pd.DataFrame({'Num_Características': 23,'Tiempo_Total': Tiempo, 'Accuracy_Promedio': accuracy}, index=[23])\n",
    "    #'Num_Características': num_características,'Tiempo_Total': tiempo_total_lista, 'Accuracy_Promedio': acc_promedio_lista})\n",
    "\n",
    "# Guardar el DataFrame en un archivo CSV\n",
    "guardar_rendimiento = 'AccuracyTime_Normal_Completo.csv'\n",
    "df_rendimiento_Smote.to_csv(guardar_rendimiento, index=True)"
   ]
  },
  {
   "cell_type": "code",
   "execution_count": null,
   "id": "5a1f8f1c",
   "metadata": {},
   "outputs": [],
   "source": [
    "ruta_modelos = 'Modelo_neuronal_Normal_Completo.pkl'\n",
    "modelos_cargados = cargar_modelos(ruta_modelos)\n",
    "\n",
    "# Datos de prueba\n",
    "X_test = df_red_neuronal1.drop('IMECA_Total', axis=1)\n",
    "y_test = df_red_neuronal1['IMECA_Total']\n",
    "\n",
    "# Evaluar cada modelo y obtener su rendimiento\n",
    "rendimientos = {}\n",
    "i = 1\n",
    "for nombre_modelo, modelo in modelos_cargados.items():\n",
    "\n",
    "    rendimiento = evaluar_modelo(modelo, X_test, y_test)\n",
    "    rendimientos[nombre_modelo] = rendimiento\n",
    "    print('acabé ', i, ' veces.')\n",
    "    print('Rendimiento del modelo', nombre_modelo, 'es:', rendimiento)\n",
    "    i += 1\n",
    "    print(' ')\n",
    "\n",
    "# Seleccionar el modelo con el mejor rendimiento\n",
    "print(' ')\n",
    "print(' ')\n",
    "print(' ')\n",
    "print(' ')\n",
    "print(' ')\n",
    "print(' ')\n",
    "mejor_modelo = max(rendimientos, key=rendimientos.get)\n",
    "print(\"El mejor modelo es:\", mejor_modelo)\n",
    "print(\"Con una precisión de:\", rendimientos[mejor_modelo])\n"
   ]
  },
  {
   "cell_type": "code",
   "execution_count": 6,
   "id": "0561982e",
   "metadata": {},
   "outputs": [
    {
     "name": "stdout",
     "output_type": "stream",
     "text": [
      "62298/62298 [==============================] - 30s 477us/step\n",
      "Matriz de Confusión:\n",
      "[[ 69798   8122   7530   1454]\n",
      " [283536 995852 458110  65421]\n",
      " [  5987  20660  59010   8209]\n",
      " [   191     75    211   9366]]\n"
     ]
    },
    {
     "data": {
      "image/png": "[encoded data removed]",
      "text/plain": [
       "<Figure size 432x288 with 2 Axes>"
      ]
     },
     "metadata": {
      "needs_background": "light"
     },
     "output_type": "display_data"
    }
   ],
   "source": [
    "X_test = df_red_neuronal1.drop('IMECA_Total', axis=1)\n",
    "y_test = df_red_neuronal1['IMECA_Total']\n",
    "\n",
    "\n",
    "# Cargar el modelo específico del archivo pkl\n",
    "ruta_modelo = 'Modelo_neuronal_Normal_Completo.pkl'\n",
    "with open(ruta_modelo, 'rb') as f:\n",
    "    modelos_cargados = pickle.load(f)\n",
    "\n",
    "# Extraer el modelo específico\n",
    "modelo_prueba_kfold_7 = modelos_cargados['modelo_prueba_kfold_7']\n",
    "\n",
    "# Obtener las predicciones del modelo en todo el conjunto de datos\n",
    "y_pred = modelo_prueba_kfold_7.predict(X_test)\n",
    "\n",
    "# Convertir las predicciones a etiquetas\n",
    "y_pred_labels = np.argmax(y_pred, axis=1)\n",
    "y_pred_labels = [x + 1 for x in y_pred_labels]\n",
    "\n",
    "# Definir etiquetas de las clases\n",
    "labels = ['clase 1', 'clase 2', 'clase 3', 'clase 4']\n",
    "\n",
    "# Calcular la matriz de confusión\n",
    "conf_matrix = confusion_matrix(y_test.to_list(), y_pred_labels)\n",
    "sns.heatmap(conf_matrix, annot=True, xticklabels=labels, yticklabels=labels, cmap=\"Blues\", fmt=\"g\")\n",
    "\n",
    "plt.xlabel('Predicted'); plt.ylabel('Actual'); plt.title('Confusion Matrix')\n",
    "\n",
    "print(\"Matriz de Confusión:\")\n",
    "print(conf_matrix)"
   ]
  },
  {
   "cell_type": "code",
   "execution_count": null,
   "id": "25e12dc8",
   "metadata": {},
   "outputs": [],
   "source": [
    "Times_prueba='C:\\\\Users\\\\Juan\\\\Documentos\\\\datos.csv'\n",
    "# Guardar el DataFrame en un archivo CSV\n",
    "guardar_rendimiento = '/content/drive/My Drive/Maestria-programas/Seleccion/Accuracy_TiempoEjecucion/Varianza_MayorIgual_1.csv'"
   ]
  },
  {
   "cell_type": "code",
   "execution_count": null,
   "id": "ca8a87f0",
   "metadata": {},
   "outputs": [],
   "source": []
  },
  {
   "cell_type": "code",
   "execution_count": null,
   "id": "603366b3",
   "metadata": {},
   "outputs": [],
   "source": []
  },
  {
   "cell_type": "code",
   "execution_count": null,
   "id": "cf11dd88",
   "metadata": {},
   "outputs": [],
   "source": []
  },
  {
   "cell_type": "code",
   "execution_count": null,
   "id": "fecff51e",
   "metadata": {},
   "outputs": [],
   "source": []
  },
  {
   "cell_type": "code",
   "execution_count": null,
   "id": "9d58a2cb",
   "metadata": {},
   "outputs": [],
   "source": []
  },
  {
   "cell_type": "code",
   "execution_count": null,
   "id": "a1738b8c",
   "metadata": {},
   "outputs": [],
   "source": []
  },
  {
   "cell_type": "code",
   "execution_count": null,
   "id": "baa3825f",
   "metadata": {},
   "outputs": [],
   "source": []
  },
  {
   "cell_type": "code",
   "execution_count": null,
   "id": "811b3108",
   "metadata": {},
   "outputs": [],
   "source": []
  },
  {
   "cell_type": "code",
   "execution_count": null,
   "id": "dd39b231",
   "metadata": {},
   "outputs": [],
   "source": []
  },
  {
   "cell_type": "code",
   "execution_count": null,
   "id": "07b5e4c4",
   "metadata": {},
   "outputs": [],
   "source": []
  },
  {
   "cell_type": "code",
   "execution_count": null,
   "id": "bfa484af",
   "metadata": {},
   "outputs": [],
   "source": []
  },
  {
   "cell_type": "markdown",
   "id": "998d2cd4",
   "metadata": {},
   "source": [
    "# Data Frame con Smote"
   ]
  },
  {
   "cell_type": "code",
   "execution_count": null,
   "id": "5db5130a",
   "metadata": {},
   "outputs": [],
   "source": [
    "TIMES2 = 'SMOTE_DATA.csv'\n",
    "#'sonar.all-data.csv'\n",
    "#'/content/drive/My Drive/Maestria-programas/Muestras_Unidas/SMOTE_CTGAN/SMOTE_DATA.csv'\n",
    "\n",
    "df_red_neuronal2 = pd.read_csv(TIMES2)\n",
    "\n",
    "# Obtén el número de columnas del DataFrame\n",
    "num_columnas2 = df_red_neuronal2.shape[1]\n",
    "\n",
    "# Imprime el número de columnas\n",
    "print(\"Número de columnas:\", num_columnas2)"
   ]
  },
  {
   "cell_type": "code",
   "execution_count": null,
   "id": "5613efa4",
   "metadata": {},
   "outputs": [],
   "source": [
    "df_red_neuronal2.describe().T"
   ]
  },
  {
   "cell_type": "code",
   "execution_count": null,
   "id": "226008cf",
   "metadata": {},
   "outputs": [],
   "source": [
    "df_red_neuronal2.info()"
   ]
  },
  {
   "cell_type": "code",
   "execution_count": null,
   "id": "2bbca949",
   "metadata": {},
   "outputs": [],
   "source": [
    "Tiempo, accuracy= experimentosMLP(df_red_neuronal2, nombre_archivo='Smote_Completo')\n",
    "\n",
    "# Crear un DataFrame con los valores de tiempo_total y acc_promedio\n",
    "Smote_rendimiento_completo_Smote = pd.DataFrame({'Num_Características': 23,'Tiempo_Total': Tiempo, 'Accuracy_Promedio': accuracy}, index=[23])\n",
    "\n",
    "# Guardar el DataFrame en un archivo CSV\n",
    "guardar_rendimiento = 'AccuracyTime_Smote_completo.csv'\n",
    "Smote_rendimiento_completo_Smote.to_csv(guardar_rendimiento, index=True)"
   ]
  },
  {
   "cell_type": "code",
   "execution_count": null,
   "id": "d5e3c324",
   "metadata": {},
   "outputs": [],
   "source": [
    "ruta_modelos = 'Modelo_neuronal_Smote_Completo.pkl'\n",
    "modelos_cargados = cargar_modelos(ruta_modelos)\n",
    "\n",
    "# Datos de prueba\n",
    "X_test = df_red_neuronal2.drop('IMECA_Total', axis=1)\n",
    "y_test = df_red_neuronal2['IMECA_Total']\n",
    "\n",
    "# Evaluar cada modelo y obtener su rendimiento\n",
    "rendimientos = {}\n",
    "i = 1\n",
    "for nombre_modelo, modelo in modelos_cargados.items():\n",
    "\n",
    "    rendimiento = evaluar_modelo(modelo, X_test, y_test)\n",
    "    rendimientos[nombre_modelo] = rendimiento\n",
    "    print('acabé ', i, ' veces.')\n",
    "    print('Rendimiento del modelo', nombre_modelo, 'es:', rendimiento)\n",
    "    i += 1\n",
    "    print(' ')\n",
    "\n",
    "print(' ')\n",
    "print(' ')\n",
    "print(' ')\n",
    "print(' ')\n",
    "print(' ')\n",
    "print(' ')\n",
    "# Seleccionar el modelo con el mejor rendimiento\n",
    "mejor_modelo = max(rendimientos, key=rendimientos.get)\n",
    "print(\"El mejor modelo es:\", mejor_modelo)\n",
    "print(\"Con una precisión de:\", rendimientos[mejor_modelo])\n"
   ]
  },
  {
   "cell_type": "code",
   "execution_count": null,
   "id": "2f3fc997",
   "metadata": {},
   "outputs": [],
   "source": [
    "X_test = df_red_neuronal2.drop('IMECA_Total', axis=1)\n",
    "y_test = df_red_neuronal2['IMECA_Total']\n",
    "\n",
    "\n",
    "# Cargar el modelo específico del archivo pkl\n",
    "ruta_modelo = 'Modelo_neuronal_Smote_Completo.pkl'\n",
    "with open(ruta_modelo, 'rb') as f:\n",
    "    modelos_cargados = pickle.load(f)\n",
    "\n",
    "# Extraer el modelo específico\n",
    "modelo_prueba_kfold_9 = modelos_cargados['modelo_prueba_kfold_9']\n",
    "\n",
    "# Obtener las predicciones del modelo en todo el conjunto de datos\n",
    "y_pred = modelo_prueba_kfold_9.predict(X_test)\n",
    "\n",
    "# Convertir las predicciones a etiquetas\n",
    "y_pred_labels = np.argmax(y_pred, axis=1)\n",
    "y_pred_labels = [x + 1 for x in y_pred_labels]\n",
    "\n",
    "# Definir etiquetas de las clases\n",
    "labels = ['clase 1', 'clase 2', 'clase 3', 'clase 4']\n",
    "\n",
    "# Calcular la matriz de confusión\n",
    "conf_matrix = confusion_matrix(y_test.to_list(), y_pred_labels)\n",
    "sns.heatmap(conf_matrix, annot=True, xticklabels=labels, yticklabels=labels, cmap=\"Blues\", fmt=\"g\")\n",
    "\n",
    "plt.xlabel('Predicted'); plt.ylabel('Actual'); plt.title('Confusion Matrix')\n",
    "\n",
    "print(\"Matriz de Confusión:\")\n",
    "print(conf_matrix)"
   ]
  },
  {
   "cell_type": "code",
   "execution_count": null,
   "id": "52f89702",
   "metadata": {},
   "outputs": [],
   "source": []
  }
 ],
 "metadata": {
  "kernelspec": {
   "display_name": "Python 3",
   "language": "python",
   "name": "python3"
  },
  "language_info": {
   "codemirror_mode": {
    "name": "ipython",
    "version": 3
   },
   "file_extension": ".py",
   "mimetype": "text/x-python",
   "name": "python",
   "nbconvert_exporter": "python",
   "pygments_lexer": "ipython3",
   "version": "3.8.8"
  }
 },
 "nbformat": 4,
 "nbformat_minor": 5
}
